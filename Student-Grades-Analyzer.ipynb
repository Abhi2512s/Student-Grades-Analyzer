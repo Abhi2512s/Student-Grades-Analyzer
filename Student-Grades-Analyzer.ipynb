{
 "cells": [
  {
   "cell_type": "markdown",
   "id": "bc25dc1e",
   "metadata": {},
   "source": [
    "# Mini Project – Student Grades Analyzer 2.0"
   ]
  },
  {
   "cell_type": "code",
   "execution_count": 54,
   "id": "97354fd8",
   "metadata": {},
   "outputs": [
    {
     "name": "stdout",
     "output_type": "stream",
     "text": [
      "---- All Students ----\n",
      "Name: Amit, Age: 20, Marks: [78, 65, 89]\n",
      "Name: Riya, Age: 21, Marks: [90, 88, 95]\n",
      "Name: Sneha, Age: 22, Marks: [45, 56, 67]\n",
      "Topper is Amit with total marks =232\n",
      "Topper is Riya with total marks =273\n",
      "----Student Averages----\n",
      "Amit - Average Marks = 77.33\n",
      "Riya - Average Marks = 91.00\n",
      "Sneha - Average Marks = 56.00\n",
      "Overall Class Average = 74.78\n",
      "Enter student name to search: Riya\n",
      "Name: Riya, Age: 21, Marks: [90, 88, 95]\n"
     ]
    }
   ],
   "source": [
    "# Step 1: Setup Data\n",
    "# Store multiple students’ data in a dictionary.\n",
    "# Each student should have name, age, marks.\n",
    "\n",
    "students = {\n",
    "    \"student1\": {\"name\": \"Amit\", \"age\": 20, \"marks\": [78, 65, 89]},\n",
    "    \"student2\": {\"name\": \"Riya\", \"age\": 21, \"marks\": [90, 88, 95]},\n",
    "    \"student3\": {\"name\": \"Sneha\", \"age\": 22, \"marks\": [45, 56, 67]}\n",
    "}  \n",
    "\n",
    "# Function 1: Print all students\n",
    "def print_all_students(students):\n",
    "    print(\"---- All Students ----\")\n",
    "    for key, details in students.items():\n",
    "        name = details['name']\n",
    "        age = details['age']\n",
    "        marks = details['marks']\n",
    "        print(f\"Name: {name}, Age: {age}, Marks: {marks}\")\n",
    "print_all_students(students)\n",
    "\n",
    "# find_topper(students) → Find and print the student with the highest average marks.\n",
    "\n",
    "def find_topper(students):\n",
    "    topper_name = None\n",
    "    highest_total = 0\n",
    "    \n",
    "    for key,details in students.items():\n",
    "        total = sum(details['marks'])\n",
    "        if total > highest_total:\n",
    "            highest_total = total\n",
    "            topper_name = details['name']\n",
    "            print(f'Topper is {topper_name} with total marks ={highest_total}')\n",
    "find_topper(students)\n",
    "\n",
    "# calculate_class_average(students) → Print the average marks of the whole class.\n",
    "\n",
    "def calculate_average(students):\n",
    "    print('----Student Averages----')\n",
    "    for key,details in students.items():\n",
    "        total = sum(details['marks'])\n",
    "        avg = total/ len(details['marks'])\n",
    "        print(f\"{details['name']} - Average Marks = {avg:.2f}\")\n",
    "calculate_average(students)\n",
    "\n",
    "def calculate_class_average(students):\n",
    "    total_marks = 0\n",
    "    total_subjects = 0\n",
    "    \n",
    "    for key, details in students.items():\n",
    "        total_marks += sum(details['marks'])\n",
    "        total_subjects += len(details['marks'])\n",
    "    \n",
    "    class_avg = total_marks / total_subjects\n",
    "    print(f\"Overall Class Average = {class_avg:.2f}\")\n",
    "calculate_class_average(students)\n",
    "\n",
    "# search_student(students, name) → Search by name and print their details.\n",
    "\n",
    "search_name = input(\"Enter student name to search: \")\n",
    "def search_student(students, search_name):\n",
    "    found = False\n",
    "    for key, details in students.items():\n",
    "        if details['name'].lower() == search_name.lower():  # case insensitive\n",
    "            print(f\"Name: {details['name']}, Age: {details['age']}, Marks: {details['marks']}\")\n",
    "            found = True\n",
    "            break\n",
    "    if not found:\n",
    "        print(\"Student not found\")\n",
    "        \n",
    "search_student(students, search_name)"
   ]
  },
  {
   "cell_type": "code",
   "execution_count": null,
   "id": "008acd98",
   "metadata": {},
   "outputs": [],
   "source": []
  },
  {
   "cell_type": "code",
   "execution_count": null,
   "id": "f1d32dff",
   "metadata": {},
   "outputs": [],
   "source": [
    "\n",
    "    \n",
    "\n"
   ]
  },
  {
   "cell_type": "code",
   "execution_count": null,
   "id": "63ecbf92",
   "metadata": {},
   "outputs": [],
   "source": []
  },
  {
   "cell_type": "code",
   "execution_count": null,
   "id": "7f167709",
   "metadata": {},
   "outputs": [],
   "source": []
  },
  {
   "cell_type": "code",
   "execution_count": null,
   "id": "22fb3123",
   "metadata": {},
   "outputs": [],
   "source": []
  },
  {
   "cell_type": "code",
   "execution_count": null,
   "id": "62160cd5",
   "metadata": {},
   "outputs": [],
   "source": []
  },
  {
   "cell_type": "code",
   "execution_count": null,
   "id": "595fd26b",
   "metadata": {},
   "outputs": [],
   "source": []
  },
  {
   "cell_type": "code",
   "execution_count": null,
   "id": "c429f35c",
   "metadata": {},
   "outputs": [],
   "source": []
  },
  {
   "cell_type": "code",
   "execution_count": null,
   "id": "56080b9a",
   "metadata": {},
   "outputs": [],
   "source": []
  },
  {
   "cell_type": "code",
   "execution_count": null,
   "id": "355500b7",
   "metadata": {},
   "outputs": [],
   "source": []
  },
  {
   "cell_type": "code",
   "execution_count": null,
   "id": "771bbcee",
   "metadata": {},
   "outputs": [],
   "source": []
  },
  {
   "cell_type": "code",
   "execution_count": null,
   "id": "0db8c28d",
   "metadata": {},
   "outputs": [],
   "source": []
  },
  {
   "cell_type": "code",
   "execution_count": null,
   "id": "62865e55",
   "metadata": {},
   "outputs": [],
   "source": []
  },
  {
   "cell_type": "code",
   "execution_count": null,
   "id": "d7608544",
   "metadata": {},
   "outputs": [],
   "source": []
  }
 ],
 "metadata": {
  "kernelspec": {
   "display_name": "Python 3 (ipykernel)",
   "language": "python",
   "name": "python3"
  },
  "language_info": {
   "codemirror_mode": {
    "name": "ipython",
    "version": 3
   },
   "file_extension": ".py",
   "mimetype": "text/x-python",
   "name": "python",
   "nbconvert_exporter": "python",
   "pygments_lexer": "ipython3",
   "version": "3.10.9"
  }
 },
 "nbformat": 4,
 "nbformat_minor": 5
}
